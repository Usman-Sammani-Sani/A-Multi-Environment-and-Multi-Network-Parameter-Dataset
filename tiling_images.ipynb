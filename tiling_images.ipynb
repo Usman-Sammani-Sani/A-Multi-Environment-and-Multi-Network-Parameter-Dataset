{
  "cells": [
    {
      "cell_type": "code",
      "execution_count": null,
      "metadata": {
        "id": "66gNgQD6Ib-5"
      },
      "outputs": [],
      "source": [
        "import pandas as pd\n",
        "import math \n",
        "import scipy\n",
        "import numpy as np\n",
        "from numpy.random import seed\n",
        "seed(1)\n",
        "import csv\n",
        "import scipy\n",
        "from scipy import stats\n",
        "import pickle\n",
        "import cv2\n",
        "\n",
        "#form the image extraction files path\n",
        "trainmerged_image = []\n",
        "for i in range(9895):\n",
        "    imn = str(i)\n",
        "    transmitter =  '/home/iada/study_two/trainset/transmitter/' + imn + '.png'\n",
        "    onethird =  '/home/iada/study_two/trainset/onethird/' + imn + '.png'\n",
        "    twothird = '/home/iada/study_two/trainset/twothird/' + imn + '.png'\n",
        "    receiver = '/home/iada/study_two/trainset/receiver/' + imn + '.png'\n",
        "    img1 = cv2.imread(transmitter)\n",
        "    img1 = cv2.resize(img1,(64,64), interpolation = cv2.INTER_AREA)\n",
        "    img2 = cv2.imread(onethird)\n",
        "    img2 = cv2.resize(img2,(64,64), interpolation = cv2.INTER_AREA)\n",
        "    img3 = cv2.imread(twothird)\n",
        "    img3 = cv2.resize(img3,(64,64), interpolation = cv2.INTER_AREA)\n",
        "    img4 = cv2.imread(receiver)\n",
        "    img4 = cv2.resize(img4,(64,64), interpolation = cv2.INTER_AREA)\n",
        "    concat1 = cv2.hconcat([img1, img2])\n",
        "    concat2 = cv2.hconcat([img3, img4])\n",
        "    final_concat = cv2.vconcat([concat1,concat2])\n",
        "    merge_path = '/home/iada/study_two/trainset/merged/' + imn + '.png'\n",
        "    cv2.imwrite(merge_path, final_concat)\n",
        "    \n",
        "testmerged_image = []\n",
        "for i in range(2474):\n",
        "    imn = str(i)\n",
        "    transmitter =  '/home/iada/study_two/testset/transmitter/' + imn + '.png'\n",
        "    onethird =  '/home/iada/study_two/testset/onethird/' + imn + '.png'\n",
        "    twothird = '/home/iada/study_two/testset/twothird/' + imn + '.png'\n",
        "    receiver = '/home/iada/study_two/testset/receiver/' + imn + '.png'\n",
        "    img1 = cv2.imread(transmitter)\n",
        "    img1 = cv2.resize(img1,(64,64), interpolation = cv2.INTER_AREA)\n",
        "    img2 = cv2.imread(onethird)\n",
        "    img2 = cv2.resize(img2,(64,64), interpolation = cv2.INTER_AREA)\n",
        "    img3 = cv2.imread(twothird)\n",
        "    img3 = cv2.resize(img3,(64,64), interpolation = cv2.INTER_AREA)\n",
        "    img4 = cv2.imread(receiver)\n",
        "    img4 = cv2.resize(img4,(64,64), interpolation = cv2.INTER_AREA)\n",
        "    concat1 = cv2.hconcat([img1, img2])\n",
        "    concat2 = cv2.hconcat([img3, img4])\n",
        "    final_concat = cv2.vconcat([concat1,concat2])\n",
        "    merge_path = '/home/iada/study_two/testset/merged/' + imn + '.png'\n",
        "    cv2.imwrite(merge_path, final_concat)"
      ]
    },
    {
      "cell_type": "code",
      "execution_count": null,
      "metadata": {
        "id": "gmI0ThmnIb_U"
      },
      "outputs": [],
      "source": [
        ""
      ]
    }
  ],
  "metadata": {
    "kernelspec": {
      "display_name": "Python 3",
      "language": "python",
      "name": "python3"
    },
    "language_info": {
      "codemirror_mode": {
        "name": "ipython",
        "version": 3
      },
      "file_extension": ".py",
      "mimetype": "text/x-python",
      "name": "python",
      "nbconvert_exporter": "python",
      "pygments_lexer": "ipython3",
      "version": "3.7.6"
    },
    "colab": {
      "name": "tiling_images.ipynb",
      "provenance": []
    }
  },
  "nbformat": 4,
  "nbformat_minor": 0
}