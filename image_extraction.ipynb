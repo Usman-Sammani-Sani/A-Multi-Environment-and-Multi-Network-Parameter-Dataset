{
 "cells": [
  {
   "cell_type": "code",
   "execution_count": null,
   "metadata": {},
   "outputs": [],
   "source": [
    "!pip install mapbox\n",
    "import pandas as pd\n",
    "import numpy as np\n",
    "from mapbox import StaticStyle\n",
    "import csv\n",
    "from mapbox import StaticStyle\n",
    "service = StaticStyle(access_token=\"\")    # enter the access_token from your mapbox account within the quotation marks\n",
    "inputdata = pd.read_csv(\"newdata.csv\")   # imports the csv file containing input features\n",
    "latitude = inputdata['latitude']\n",
    "longitude = inputdata['longitude']\n",
    "distance = inputdata['distance']\n",
    "tlatitude = inputdata['tlatitude']\n",
    "tlongitude = inputdata['tlongitude']\n",
    "distance_x = inputdata['distance_x']\n",
    "distance_y = inputdata['distance_y']\n",
    "\n",
    "\n",
    "for i in range(len(distance)):\n",
    "   distance_xnew = float(distance_x[i])\n",
    "   distance_ynew = float(distance_y[i])\n",
    "   tlatitudenew = float(tlatitude[i])\n",
    "   tlongitudenew = float(tlongitude[i])\n",
    "   for o in range(4):  \n",
    "       \n",
    "       lat = tlatitudenew + ((0.333333333*o)*(distance_xnew))\n",
    "       lon = tlongitudenew + ((0.333333333*o)*(distance_ynew))\n",
    "                     \n",
    "       response = service.image(\n",
    "             username='mapbox',\n",
    "             style_id='satellite-v9',\n",
    "             lon=lon, lat=lat, zoom=17, width=256, height=256, attribution=False, logo=None)\n",
    "       response.status_code\n",
    "       response.headers['Content-Type']\n",
    "       imn = str(i)\n",
    "       if (o == 0):\n",
    "           D =  '/home/iada/study_two/testset/transmitter/' + imn + '.png'\n",
    "          \n",
    "       elif(o == 1): \n",
    "           D =  '/home/iada/study_two/testset/onethird/' + imn + '.png'\n",
    "           \n",
    "       elif(o == 2):\n",
    "            D =  '/home/iada/study_two/testset/twothird/' + imn + '.png'\n",
    "       elif(o == 3):\n",
    "           D =  '/home/iada/study_two/testset/receiver/' + imn + '.png'\n",
    "            \n",
    "       with open(D, 'wb') as output:\n",
    "         _ = output.write(response.content)"
   ]
  }
 ],
 "metadata": {
  "kernelspec": {
   "display_name": "Python 3",
   "language": "python",
   "name": "python3"
  },
  "language_info": {
   "codemirror_mode": {
    "name": "ipython",
    "version": 3
   },
   "file_extension": ".py",
   "mimetype": "text/x-python",
   "name": "python",
   "nbconvert_exporter": "python",
   "pygments_lexer": "ipython3",
   "version": "3.7.6"
  }
 },
 "nbformat": 4,
 "nbformat_minor": 4
}
